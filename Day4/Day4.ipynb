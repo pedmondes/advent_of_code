{
 "cells": [
  {
   "cell_type": "markdown",
   "metadata": {},
   "source": [
    "# Day 4\n",
    "https://adventofcode.com/2020/day/4"
   ]
  },
  {
   "cell_type": "markdown",
   "metadata": {},
   "source": [
    "## Part 1"
   ]
  },
  {
   "cell_type": "code",
   "execution_count": 2,
   "metadata": {},
   "outputs": [],
   "source": [
    "file = open(\"Day4.txt\", \"r\")\n",
    "passports = file.read().split('\\n\\n')"
   ]
  },
  {
   "cell_type": "code",
   "execution_count": 18,
   "metadata": {},
   "outputs": [],
   "source": [
    "required_deets = [\n",
    "    'byr',\n",
    "    'iyr',\n",
    "    'eyr',\n",
    "    'hgt',\n",
    "    'hcl',\n",
    "    'ecl',\n",
    "    'pid'\n",
    "]\n",
    "optional_deets = ['cid']"
   ]
  },
  {
   "cell_type": "code",
   "execution_count": 28,
   "metadata": {},
   "outputs": [
    {
     "name": "stdout",
     "output_type": "stream",
     "text": [
      "242\n"
     ]
    }
   ],
   "source": [
    "valid_count = 0\n",
    "for passport in passports:\n",
    "\n",
    "    if all(deet in passport for deet in required_deets):\n",
    "        valid_count+=1\n",
    "        \n",
    "print(valid_count)"
   ]
  },
  {
   "cell_type": "markdown",
   "metadata": {},
   "source": [
    "## Part 2"
   ]
  },
  {
   "cell_type": "code",
   "execution_count": 34,
   "metadata": {},
   "outputs": [],
   "source": [
    "import re"
   ]
  },
  {
   "cell_type": "code",
   "execution_count": 57,
   "metadata": {},
   "outputs": [
    {
     "name": "stdout",
     "output_type": "stream",
     "text": [
      "gfd\n"
     ]
    }
   ],
   "source": [
    "if re.match(\"#[0-9a-f]{6}\",'#a97842'):\n",
    "    print('gfd')"
   ]
  },
  {
   "cell_type": "code",
   "execution_count": null,
   "metadata": {},
   "outputs": [],
   "source": []
  },
  {
   "cell_type": "code",
   "execution_count": null,
   "metadata": {},
   "outputs": [],
   "source": [
    "1920 >= byr >= 2002\n",
    "2010 >= >= 2020\n",
    "2020 >= eyr >= 2030\n",
    "150 193\n",
    "59 76\n",
    "#0-9 a-f 6\n",
    "amb blu brn gry grn hzl oth\n",
    "9 dig number inclu 0s"
   ]
  },
  {
   "cell_type": "code",
   "execution_count": 70,
   "metadata": {},
   "outputs": [
    {
     "name": "stdout",
     "output_type": "stream",
     "text": [
      "#b90d2e\n",
      "77022842\n",
      "193cm\n",
      "187\n"
     ]
    }
   ],
   "source": [
    "valid_passport = 0\n",
    "\n",
    "for passport in passports:\n",
    "    \n",
    "    clean_passport_list = passport.replace('\\n',' ').split(' ')\n",
    "    \n",
    "    passport_dict = {}\n",
    "    \n",
    "    for deet in clean_passport_list:\n",
    "        key = deet[:deet.index(':')]\n",
    "        value = deet[deet.index(':')+1:]\n",
    "        \n",
    "        passport_dict[key] = value\n",
    "   \n",
    "\n",
    "    if all(deet in passport for deet in required_deets):\n",
    "        \n",
    "        # byr check\n",
    "        if not 1920 <= int(passport_dict['byr']) <= 2002:\n",
    "            continue\n",
    "            \n",
    "        # iyr check\n",
    "        if not 2010 <= int(passport_dict['iyr']) <= 2020:\n",
    "            continue\n",
    "            \n",
    "        # eyr check\n",
    "        if not 2020 <= int(passport_dict['eyr']) <= 2030:\n",
    "            continue\n",
    "        \n",
    "        # hgt check\n",
    "        hgt_unit = passport_dict['hgt'][-2:]\n",
    "        if hgt_unit == 'cm':\n",
    "            if not 150 <= int(passport_dict['hgt'][:-2]) <= 193:\n",
    "                continue\n",
    "        elif hgt_unit == 'in':\n",
    "            if not 59 <= int(passport_dict['hgt'][:-2]) <= 76:\n",
    "                continue\n",
    "        else:\n",
    "            continue\n",
    "          \n",
    "        # hcl check\n",
    "        if not re.match(\"^#[0-9a-f]{6}$\",passport_dict['hcl']):\n",
    "            continue\n",
    "        \n",
    "        # ecl check\n",
    "        if passport_dict['ecl'] not in ['amb', 'blu', 'brn', 'gry', 'grn', 'hzl', 'oth']:\n",
    "            continue\n",
    "            \n",
    "        # pid check\n",
    "        if not re.match(\"[0-9]{9}\",passport_dict['pid']):\n",
    "            continue\n",
    "        \n",
    "        valid_passport +=1\n",
    "    \n",
    "print(valid_passport)\n",
    "    "
   ]
  },
  {
   "cell_type": "code",
   "execution_count": 23,
   "metadata": {},
   "outputs": [
    {
     "data": {
      "text/plain": [
       "'172'"
      ]
     },
     "execution_count": 23,
     "metadata": {},
     "output_type": "execute_result"
    }
   ],
   "source": [
    "pass"
   ]
  },
  {
   "cell_type": "code",
   "execution_count": null,
   "metadata": {},
   "outputs": [],
   "source": []
  }
 ],
 "metadata": {
  "kernelspec": {
   "display_name": "Python 3",
   "language": "python",
   "name": "python3"
  },
  "language_info": {
   "codemirror_mode": {
    "name": "ipython",
    "version": 3
   },
   "file_extension": ".py",
   "mimetype": "text/x-python",
   "name": "python",
   "nbconvert_exporter": "python",
   "pygments_lexer": "ipython3",
   "version": "3.7.3"
  }
 },
 "nbformat": 4,
 "nbformat_minor": 4
}
