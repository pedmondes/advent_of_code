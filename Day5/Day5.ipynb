{
 "cells": [
  {
   "cell_type": "markdown",
   "metadata": {},
   "source": [
    "# Day 5\n",
    "https://adventofcode.com/2020/day/5"
   ]
  },
  {
   "cell_type": "markdown",
   "metadata": {},
   "source": [
    "## Part 1 and 2"
   ]
  },
  {
   "cell_type": "code",
   "execution_count": 30,
   "metadata": {},
   "outputs": [],
   "source": [
    "import math"
   ]
  },
  {
   "cell_type": "code",
   "execution_count": 7,
   "metadata": {},
   "outputs": [],
   "source": [
    "file = open(\"Day5.txt\", \"r\")\n",
    "seats = [seat for seat in file.read().split('\\n')]"
   ]
  },
  {
   "cell_type": "code",
   "execution_count": 38,
   "metadata": {},
   "outputs": [
    {
     "name": "stdout",
     "output_type": "stream",
     "text": [
      "855\n",
      "552\n"
     ]
    }
   ],
   "source": [
    "seatid_list = []\n",
    "\n",
    "for seat in seats:\n",
    "    \n",
    "    row_upper = 127\n",
    "    row_lower = 0\n",
    "    \n",
    "    for index in range(7):\n",
    "        \n",
    "        if seat[index] == 'F':\n",
    "            \n",
    "            row_upper = math.floor((row_upper + row_lower)/2)\n",
    "              \n",
    "        if seat[index] == 'B':\n",
    "            \n",
    "            row_lower = math.ceil((row_upper + row_lower)/2)\n",
    "            \n",
    "    row_number = row_lower\n",
    "    \n",
    "    col_upper = 7\n",
    "    col_lower = 0\n",
    "    \n",
    "    for index in range(-3,0):\n",
    "        \n",
    "        if seat[index] == 'L':\n",
    "            \n",
    "            col_upper = math.floor((col_upper + col_lower)/2)\n",
    "            \n",
    "        if seat[index] == 'R':\n",
    "            \n",
    "            col_lower = math.ceil((col_upper + col_lower)/2)\n",
    "                \n",
    "    col_number = col_upper\n",
    "    \n",
    "    seatid = row_number * 8 + col_number\n",
    "    \n",
    "    seatid_list.append(seatid)\n",
    "        \n",
    "print(max(seatid_list))\n",
    "for seat_index in range(1,len(sorted(seatid_list))-1):\n",
    "    if sorted(seatid_list)[seat_index] - 1 == sorted(seatid_list)[seat_index-1] \\\n",
    "    and sorted(seatid_list)[seat_index] + 1 == sorted(seatid_list)[seat_index+1]:\n",
    "        continue\n",
    "    else:\n",
    "        print(sorted(seatid_list)[seat_index]+1)\n",
    "        break\n",
    "    "
   ]
  }
 ],
 "metadata": {
  "kernelspec": {
   "display_name": "Python 3",
   "language": "python",
   "name": "python3"
  },
  "language_info": {
   "codemirror_mode": {
    "name": "ipython",
    "version": 3
   },
   "file_extension": ".py",
   "mimetype": "text/x-python",
   "name": "python",
   "nbconvert_exporter": "python",
   "pygments_lexer": "ipython3",
   "version": "3.7.3"
  }
 },
 "nbformat": 4,
 "nbformat_minor": 4
}
