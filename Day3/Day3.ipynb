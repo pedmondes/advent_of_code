{
 "cells": [
  {
   "cell_type": "markdown",
   "metadata": {},
   "source": [
    "# Day 3\n",
    "https://adventofcode.com/2020/day/3"
   ]
  },
  {
   "cell_type": "markdown",
   "metadata": {},
   "source": [
    "## Part 1"
   ]
  },
  {
   "cell_type": "code",
   "execution_count": 19,
   "metadata": {},
   "outputs": [],
   "source": [
    "file = open(\"Day3.txt\", \"r\")\n",
    "lines = [line.replace('\\n','') for line in file]"
   ]
  },
  {
   "cell_type": "code",
   "execution_count": 68,
   "metadata": {},
   "outputs": [
    {
     "name": "stdout",
     "output_type": "stream",
     "text": [
      "187\n"
     ]
    }
   ],
   "source": [
    "index = -3\n",
    "tree_count = 0\n",
    "\n",
    "for line in lines:\n",
    "    \n",
    "    index += 3\n",
    "    index %= 31\n",
    "    \n",
    "    if line[index] == '#':\n",
    "        tree_count +=1\n",
    "    else:\n",
    "        pass\n",
    "        \n",
    "print(tree_count)"
   ]
  },
  {
   "cell_type": "markdown",
   "metadata": {},
   "source": [
    "## Part 2"
   ]
  },
  {
   "cell_type": "code",
   "execution_count": 66,
   "metadata": {},
   "outputs": [],
   "source": [
    "file = open(\"Day3.txt\", \"r\")\n",
    "lines = [line.replace('\\n','') for line in file]"
   ]
  },
  {
   "cell_type": "code",
   "execution_count": 89,
   "metadata": {},
   "outputs": [],
   "source": [
    "def slope_analyser(move_right: int, down_move: int, slope_list: list):\n",
    "    \n",
    "    index = -move_right\n",
    "    tree_count = 0\n",
    "    \n",
    "    for line in slope_list:\n",
    "        \n",
    "        if slope_list.index(line) % down_move != 0:\n",
    "            continue\n",
    "            \n",
    "        index += move_right\n",
    "        index %= len(line)\n",
    "        \n",
    "        if line[index] == '#':\n",
    "            tree_count += 1\n",
    "        else:\n",
    "            pass\n",
    "        \n",
    "    return tree_count"
   ]
  },
  {
   "cell_type": "code",
   "execution_count": 96,
   "metadata": {},
   "outputs": [
    {
     "name": "stdout",
     "output_type": "stream",
     "text": [
      "4723283400\n"
     ]
    }
   ],
   "source": [
    "product = 1\n",
    "\n",
    "for slope in [[1,1],[3,1],[5,1],[7,1],[1,2]]:\n",
    "    \n",
    "    product *= slope_analyser(slope[0],slope[1],lines)\n",
    "    \n",
    "print(product)"
   ]
  },
  {
   "cell_type": "code",
   "execution_count": null,
   "metadata": {},
   "outputs": [],
   "source": []
  }
 ],
 "metadata": {
  "kernelspec": {
   "display_name": "Python 3",
   "language": "python",
   "name": "python3"
  },
  "language_info": {
   "codemirror_mode": {
    "name": "ipython",
    "version": 3
   },
   "file_extension": ".py",
   "mimetype": "text/x-python",
   "name": "python",
   "nbconvert_exporter": "python",
   "pygments_lexer": "ipython3",
   "version": "3.7.3"
  }
 },
 "nbformat": 4,
 "nbformat_minor": 4
}
