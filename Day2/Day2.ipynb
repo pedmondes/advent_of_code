{
 "cells": [
  {
   "cell_type": "markdown",
   "metadata": {},
   "source": [
    "# Day 2\n",
    "https://adventofcode.com/2020/day/2"
   ]
  },
  {
   "cell_type": "markdown",
   "metadata": {},
   "source": [
    "## Part 1"
   ]
  },
  {
   "cell_type": "code",
   "execution_count": 34,
   "metadata": {},
   "outputs": [],
   "source": [
    "file = open(\"Day2.txt\", \"r\")\n",
    "policies = [policy_test.replace(':','').strip().split(' ') for policy_test in file]"
   ]
  },
  {
   "cell_type": "code",
   "execution_count": 29,
   "metadata": {},
   "outputs": [
    {
     "name": "stdout",
     "output_type": "stream",
     "text": [
      "591\n"
     ]
    }
   ],
   "source": [
    "counter = 0\n",
    "for policy in policies:\n",
    "    if int(policy[0].split('-')[0]) <= policy[2].count(policy[1]) <= int(policy[0].split('-')[1]):\n",
    "        counter+=1\n",
    "    else:\n",
    "        continue\n",
    "print(counter)"
   ]
  },
  {
   "cell_type": "markdown",
   "metadata": {},
   "source": [
    "## Part 2"
   ]
  },
  {
   "cell_type": "code",
   "execution_count": 50,
   "metadata": {},
   "outputs": [
    {
     "name": "stdout",
     "output_type": "stream",
     "text": [
      "335\n"
     ]
    }
   ],
   "source": [
    "counter = 0\n",
    "\n",
    "for policy in policies:\n",
    "    \n",
    "    low_number = int(policy[0].split('-')[0])\n",
    "    high_number = int(policy[0].split('-')[1])\n",
    "    \n",
    "    if [policy[2][low_number-1],policy[2][high_number-1]].count(policy[1]) == 1:\n",
    "        counter+=1\n",
    "    else:\n",
    "        continue\n",
    "        \n",
    "print(counter)"
   ]
  }
 ],
 "metadata": {
  "kernelspec": {
   "display_name": "Python 3",
   "language": "python",
   "name": "python3"
  },
  "language_info": {
   "codemirror_mode": {
    "name": "ipython",
    "version": 3
   },
   "file_extension": ".py",
   "mimetype": "text/x-python",
   "name": "python",
   "nbconvert_exporter": "python",
   "pygments_lexer": "ipython3",
   "version": "3.7.3"
  }
 },
 "nbformat": 4,
 "nbformat_minor": 4
}
